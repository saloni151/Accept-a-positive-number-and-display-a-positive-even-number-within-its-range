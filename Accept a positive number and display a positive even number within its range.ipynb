{
 "cells": [
  {
   "cell_type": "markdown",
   "id": "6f421cf7-debb-4087-a12e-a1e46e52ec6e",
   "metadata": {},
   "source": [
    "**Write a Python program that will accept a positive number and display a positive even number within its range**"
   ]
  },
  {
   "cell_type": "code",
   "execution_count": 1,
   "id": "48ae283e-3211-4f20-bd76-8915b70c314f",
   "metadata": {},
   "outputs": [
    {
     "name": "stdin",
     "output_type": "stream",
     "text": [
      "Enter the value: 30\n"
     ]
    }
   ],
   "source": [
    "#Accepting number from the users\n",
    "n=float(input('Enter the value:'))"
   ]
  },
  {
   "cell_type": "code",
   "execution_count": 2,
   "id": "430cc8bc-c4c0-451c-99b1-45f233395bcf",
   "metadata": {},
   "outputs": [
    {
     "name": "stdout",
     "output_type": "stream",
     "text": [
      "The input value range within 30.0\n",
      "\t 2\n",
      "\t 4\n",
      "\t 6\n",
      "\t 8\n",
      "\t 10\n",
      "\t 12\n",
      "\t 14\n",
      "\t 16\n",
      "\t 18\n",
      "\t 20\n",
      "\t 22\n",
      "\t 24\n",
      "\t 26\n",
      "\t 28\n",
      "\t 30\n",
      "The program is over\n"
     ]
    }
   ],
   "source": [
    "#logic used to display a positive even number within the range of the accepted value\n",
    "if(n<=0):\n",
    "    print(\"The value {} is invalid\".format(n))\n",
    "else:\n",
    "    if(n>0):\n",
    "        print(\"The input value range within {}\".format(n))\n",
    "        i=1\n",
    "        while(n>=i):\n",
    "            if(i%2==0):\n",
    "                print(\"\\t {}\".format(i))\n",
    "            i=i+1\n",
    "    print(\"The program is over\")\n",
    "            \n",
    "        "
   ]
  },
  {
   "cell_type": "code",
   "execution_count": null,
   "id": "387960b1-8c68-4da9-9252-14cd338f90c8",
   "metadata": {},
   "outputs": [],
   "source": []
  },
  {
   "cell_type": "code",
   "execution_count": null,
   "id": "5a9eed09-c560-4e20-9ec7-79f467bd2c52",
   "metadata": {},
   "outputs": [],
   "source": []
  },
  {
   "cell_type": "code",
   "execution_count": null,
   "id": "f6697fe1-89fe-455e-a290-040c37078c52",
   "metadata": {},
   "outputs": [],
   "source": []
  },
  {
   "cell_type": "code",
   "execution_count": null,
   "id": "19eb0fb5-d20b-4788-949d-3d2ee117cf63",
   "metadata": {},
   "outputs": [],
   "source": []
  },
  {
   "cell_type": "code",
   "execution_count": null,
   "id": "44860441-727e-457a-b8ea-b36dafc30460",
   "metadata": {},
   "outputs": [],
   "source": []
  },
  {
   "cell_type": "code",
   "execution_count": null,
   "id": "ae0f1514-37d7-417d-aad4-a5adeb84b50e",
   "metadata": {},
   "outputs": [],
   "source": []
  },
  {
   "cell_type": "code",
   "execution_count": null,
   "id": "5613f3f2-ec03-4369-8ba4-eb378972f427",
   "metadata": {},
   "outputs": [],
   "source": []
  },
  {
   "cell_type": "code",
   "execution_count": null,
   "id": "874823c0-d447-43ea-b2bb-842d750f4eae",
   "metadata": {},
   "outputs": [],
   "source": []
  },
  {
   "cell_type": "code",
   "execution_count": null,
   "id": "4d5f7f79-9ff6-47ca-bb13-ce44771c70cd",
   "metadata": {},
   "outputs": [],
   "source": []
  },
  {
   "cell_type": "code",
   "execution_count": null,
   "id": "59fe38fb-5219-40af-9e1f-985a64630814",
   "metadata": {},
   "outputs": [],
   "source": []
  },
  {
   "cell_type": "code",
   "execution_count": null,
   "id": "0617396e-b5db-4936-9186-c4e02db7f202",
   "metadata": {},
   "outputs": [],
   "source": []
  },
  {
   "cell_type": "code",
   "execution_count": null,
   "id": "5f840144-555c-470a-93b9-b58fc04fb294",
   "metadata": {},
   "outputs": [],
   "source": []
  }
 ],
 "metadata": {
  "kernelspec": {
   "display_name": "Python 3 (ipykernel)",
   "language": "python",
   "name": "python3"
  },
  "language_info": {
   "codemirror_mode": {
    "name": "ipython",
    "version": 3
   },
   "file_extension": ".py",
   "mimetype": "text/x-python",
   "name": "python",
   "nbconvert_exporter": "python",
   "pygments_lexer": "ipython3",
   "version": "3.12.7"
  }
 },
 "nbformat": 4,
 "nbformat_minor": 5
}
